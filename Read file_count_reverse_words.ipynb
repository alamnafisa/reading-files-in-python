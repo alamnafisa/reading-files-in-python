{
 "cells": [
  {
   "cell_type": "code",
   "execution_count": 5,
   "metadata": {},
   "outputs": [
    {
     "data": {
      "text/plain": [
       "\"Ever since sitting down, I'd been annoyed by the voice of the gray-pony-tailed man at the next table. He appeared to be a regular. I'd moved my seat, once, but it made no difference; the man insisted on being heard.\""
      ]
     },
     "execution_count": 5,
     "metadata": {},
     "output_type": "execute_result"
    }
   ],
   "source": [
    "article= open ('article.txt')\n",
    "article.read ()"
   ]
  },
  {
   "cell_type": "code",
   "execution_count": 20,
   "metadata": {},
   "outputs": [
    {
     "data": {
      "text/plain": [
       "0"
      ]
     },
     "execution_count": 20,
     "metadata": {},
     "output_type": "execute_result"
    }
   ],
   "source": [
    "article.seek (0)"
   ]
  },
  {
   "cell_type": "code",
   "execution_count": 7,
   "metadata": {},
   "outputs": [
    {
     "name": "stdout",
     "output_type": "stream",
     "text": [
      "Ever since sitting down, I'd been annoyed by the voice of the gray-pony-tailed man at the next table. He appeared to be a regular. I'd moved my seat, once, but it made no difference; the man insisted on being heard.\n",
      "this isindividualwords  ['Ever', 'since', 'sitting', 'down,', \"I'd\", 'been', 'annoyed', 'by', 'the', 'voice', 'of', 'the', 'gray-pony-tailed', 'man', 'at', 'the', 'next', 'table.', 'He', 'appeared', 'to', 'be', 'a', 'regular.', \"I'd\", 'moved', 'my', 'seat,', 'once,', 'but', 'it', 'made', 'no', 'difference;', 'the', 'man', 'insisted', 'on', 'being', 'heard.']\n",
      "The total number of words is--> 40\n"
     ]
    }
   ],
   "source": [
    "#WORD COUNT OPTION 1\n",
    "content = article.read () # this method opens the file in read mode, splits the paragraph using space separator \n",
    "#into individual words and then the length of split = number of words\n",
    "\n",
    "individualwords= content.split () \n",
    "print (content)\n",
    "print (\"this isindividualwords \",individualwords)\n",
    "print (\"The total number of words is-->\" +\" \"+ (str(len (individualwords))))"
   ]
  },
  {
   "cell_type": "code",
   "execution_count": 10,
   "metadata": {},
   "outputs": [
    {
     "name": "stdout",
     "output_type": "stream",
     "text": [
      "this is lines [\"Ever since sitting down, I'd been annoyed by the voice of the gray-pony-tailed man at the next table. He appeared to be a regular. I'd moved my seat, once, but it made no difference; the man insisted on being heard.\"]\n",
      "no of items in the list:  1\n",
      "The total number of words are--> 40\n"
     ]
    }
   ],
   "source": [
    "#WORD COUNT OPTION 2\n",
    "\n",
    "#lines= list (article) #returns a list with one giant string \n",
    "lines= (article.readlines()) #returns a list\n",
    "\n",
    "print (\"this is lines\",lines)\n",
    "print (\"no of items in the list: \" + \" \"+ str(len(lines)))\n",
    "\n",
    "wordcount=0\n",
    "for i in lines:\n",
    "    wordcount= wordcount+ len(i.split())\n",
    "print (\"The total number of words are-->\" ,wordcount)"
   ]
  },
  {
   "cell_type": "code",
   "execution_count": 18,
   "metadata": {
    "scrolled": false
   },
   "outputs": [
    {
     "name": "stdout",
     "output_type": "stream",
     "text": [
      "Ever since sitting down, I'd been annoyed by the voice of the gray-pony-tailed man at the next table. He appeared to be a regular. I'd moved my seat, once, but it made no difference; the man insisted on being heard.\n",
      "['E', 'v', 'e', 'r', ' ', 's', 'i', 'n', 'c', 'e', ' ', 's', 'i', 't', 't', 'i', 'n', 'g', ' ', 'd', 'o', 'w', 'n', ',', ' ', 'I', \"'\", 'd', ' ', 'b', 'e', 'e', 'n', ' ', 'a', 'n', 'n', 'o', 'y', 'e', 'd', ' ', 'b', 'y', ' ', 't', 'h', 'e', ' ', 'v', 'o', 'i', 'c', 'e', ' ', 'o', 'f', ' ', 't', 'h', 'e', ' ', 'g', 'r', 'a', 'y', '-', 'p', 'o', 'n', 'y', '-', 't', 'a', 'i', 'l', 'e', 'd', ' ', 'm', 'a', 'n', ' ', 'a', 't', ' ', 't', 'h', 'e', ' ', 'n', 'e', 'x', 't', ' ', 't', 'a', 'b', 'l', 'e', '.', ' ', 'H', 'e', ' ', 'a', 'p', 'p', 'e', 'a', 'r', 'e', 'd', ' ', 't', 'o', ' ', 'b', 'e', ' ', 'a', ' ', 'r', 'e', 'g', 'u', 'l', 'a', 'r', '.', ' ', 'I', \"'\", 'd', ' ', 'm', 'o', 'v', 'e', 'd', ' ', 'm', 'y', ' ', 's', 'e', 'a', 't', ',', ' ', 'o', 'n', 'c', 'e', ',', ' ', 'b', 'u', 't', ' ', 'i', 't', ' ', 'm', 'a', 'd', 'e', ' ', 'n', 'o', ' ', 'd', 'i', 'f', 'f', 'e', 'r', 'e', 'n', 'c', 'e', ';', ' ', 't', 'h', 'e', ' ', 'm', 'a', 'n', ' ', 'i', 'n', 's', 'i', 's', 't', 'e', 'd', ' ', 'o', 'n', ' ', 'b', 'e', 'i', 'n', 'g', ' ', 'h', 'e', 'a', 'r', 'd', '.']\n",
      "The total number of characters is-->  215\n",
      "215\n"
     ]
    }
   ],
   "source": [
    "#TOTAL NO OF CHARACTERS COUNT\n",
    "paragraph = article.read ()\n",
    "print (paragraph)\n",
    "\n",
    "newlist=[]\n",
    "\n",
    "for i in paragraph:\n",
    "    newlist.append (i)\n",
    "\n",
    "print (newlist)\n",
    "print (\"The total number of characters is--> \" + \" \"+ (str(len(newlist))))\n",
    "\n",
    "x= paragraph # can use .strip () and result is the same\n",
    "i=0\n",
    "\n",
    "for e in x:\n",
    "    i= i+1\n",
    "\n",
    "print (str(i))"
   ]
  },
  {
   "cell_type": "code",
   "execution_count": 21,
   "metadata": {},
   "outputs": [
    {
     "name": "stdout",
     "output_type": "stream",
     "text": [
      "These are the words ['Ever', 'since', 'sitting', 'down,', \"I'd\", 'been', 'annoyed', 'by', 'the', 'voice', 'of', 'the', 'gray-pony-tailed', 'man', 'at', 'the', 'next', 'table.', 'He', 'appeared', 'to', 'be', 'a', 'regular.', \"I'd\", 'moved', 'my', 'seat,', 'once,', 'but', 'it', 'made', 'no', 'difference;', 'the', 'man', 'insisted', 'on', 'being', 'heard.']\n",
      "These are the reversed words using reverse method--> ['heard.', 'being', 'on', 'insisted', 'man', 'the', 'difference;', 'no', 'made', 'it', 'but', 'once,', 'seat,', 'my', 'moved', \"I'd\", 'regular.', 'a', 'be', 'to', 'appeared', 'He', 'table.', 'next', 'the', 'at', 'man', 'gray-pony-tailed', 'the', 'of', 'voice', 'the', 'by', 'annoyed', 'been', \"I'd\", 'down,', 'sitting', 'since', 'Ever']\n",
      "These are the reversed words using slicing--> ['heard.', 'being', 'on', 'insisted', 'man', 'the', 'difference;', 'no', 'made', 'it', 'but', 'once,', 'seat,', 'my', 'moved', \"I'd\", 'regular.', 'a', 'be', 'to', 'appeared', 'He', 'table.', 'next', 'the', 'at', 'man', 'gray-pony-tailed', 'the', 'of', 'voice', 'the', 'by', 'annoyed', 'been', \"I'd\", 'down,', 'sitting', 'since', 'Ever']\n"
     ]
    }
   ],
   "source": [
    "#reverse the words in the article\n",
    "\n",
    "para= article.read ()\n",
    "#print (\"This is original paragraph-->\",para)\n",
    "words= para.split()\n",
    "print (\"These are the words\",words)\n",
    "\n",
    "#option 1\n",
    "reversedwords= list (reversed (words))\n",
    "print (\"These are the reversed words using reverse method-->\",reversedwords)\n",
    "#print (\" \".join (reversedwords))\n",
    "\n",
    "#option 2\n",
    "rev= words [::-1]\n",
    "print (\"These are the reversed words using slicing-->\",rev)"
   ]
  },
  {
   "cell_type": "code",
   "execution_count": 16,
   "metadata": {},
   "outputs": [
    {
     "data": {
      "image/png": "[encoded data removed]",
      "text/plain": [
       "<Figure size 432x288 with 1 Axes>"
      ]
     },
     "metadata": {
      "needs_background": "light"
     },
     "output_type": "display_data"
    }
   ],
   "source": [
    "import matplotlib.pyplot as plt\n",
    "\n",
    "fig = plt.figure()\n",
    "ax = fig.add_axes([0,0,1,1])\n",
    "categories = ['Word Count', 'Character Count']\n",
    "count = [40, 215] #insert variable\n",
    "ax.bar(categories, count )\n",
    "plt.show()"
   ]
  },
  {
   "cell_type": "code",
   "execution_count": null,
   "metadata": {},
   "outputs": [],
   "source": []
  },
  {
   "cell_type": "code",
   "execution_count": null,
   "metadata": {},
   "outputs": [],
   "source": []
  }
 ],
 "metadata": {
  "kernelspec": {
   "display_name": "Python 3",
   "language": "python",
   "name": "python3"
  },
  "language_info": {
   "codemirror_mode": {
    "name": "ipython",
    "version": 3
   },
   "file_extension": ".py",
   "mimetype": "text/x-python",
   "name": "python",
   "nbconvert_exporter": "python",
   "pygments_lexer": "ipython3",
   "version": "3.8.5"
  }
 },
 "nbformat": 4,
 "nbformat_minor": 4
}
